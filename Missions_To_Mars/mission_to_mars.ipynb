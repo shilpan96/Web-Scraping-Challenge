{
 "cells": [
  {
   "cell_type": "code",
   "execution_count": 1,
   "metadata": {},
   "outputs": [],
   "source": [
    "# import dependencies\n",
    "import pandas as pd\n",
    "from bs4 import BeautifulSoup as bs\n",
    "import requests\n",
    "import pymongo\n",
    "from splinter import Browser\n",
    "from selenium import webdriver"
   ]
  },
  {
   "cell_type": "code",
   "execution_count": 2,
   "metadata": {},
   "outputs": [],
   "source": [
    "# use splinter to \n",
    "executable_path = {'executable_path': '/usr/local/bin/chromedriver'}\n",
    "browser = Browser('chrome', **executable_path, headless=False)"
   ]
  },
  {
   "cell_type": "code",
   "execution_count": 18,
   "metadata": {},
   "outputs": [],
   "source": [
    "# get url for Mars news \n",
    "\n",
    "url =\"https://mars.nasa.gov/news/\"\n",
    "# open the url\n",
    "browser.visit(url)"
   ]
  },
  {
   "cell_type": "code",
   "execution_count": 4,
   "metadata": {},
   "outputs": [],
   "source": [
    "# create the html\n",
    "html = browser.html\n",
    "\n",
    "# create beautifulsoup object\n",
    "soup = bs(html, \"html.parser\")"
   ]
  },
  {
   "cell_type": "code",
   "execution_count": 13,
   "metadata": {},
   "outputs": [
    {
     "name": "stdout",
     "output_type": "stream",
     "text": [
      "<li class=\"slide\">\n",
      " <div class=\"image_and_description_container\">\n",
      "  <a href=\"/news/8742/follow-nasas-perseverance-rover-in-real-time-on-its-way-to-mars/\" target=\"_self\">\n",
      "   <div class=\"rollover_description\">\n",
      "    <div class=\"rollover_description_inner\">\n",
      "     A crisply rendered web application can show you where the agency's Mars 2020 mission is right now as it makes its way to the Red Planet for a Feb. 18, 2021, landing.\n",
      "    </div>\n",
      "    <div class=\"overlay_arrow\">\n",
      "     <img alt=\"More\" src=\"/assets/overlay-arrow.png\"/>\n",
      "    </div>\n",
      "   </div>\n",
      "   <div class=\"list_image\">\n",
      "    <img alt=\"Illustration of Mars 2020 spacecraft\" src=\"/system/news_items/list_view_images/8742_Mars2020-Earth-226.jpg\"/>\n",
      "   </div>\n",
      "   <div class=\"bottom_gradient\">\n",
      "    <div>\n",
      "     <h3>\n",
      "      Follow NASA's Perseverance Rover in Real Time on Its Way to Mars\n",
      "     </h3>\n",
      "    </div>\n",
      "   </div>\n",
      "  </a>\n",
      "  <div class=\"list_text\">\n",
      "   <div class=\"list_date\">\n",
      "    August 21, 2020\n",
      "   </div>\n",
      "   <div class=\"content_title\">\n",
      "    <a href=\"/news/8742/follow-nasas-perseverance-rover-in-real-time-on-its-way-to-mars/\" target=\"_self\">\n",
      "     Follow NASA's Perseverance Rover in Real Time on Its Way to Mars\n",
      "    </a>\n",
      "   </div>\n",
      "   <div class=\"article_teaser_body\">\n",
      "    A crisply rendered web application can show you where the agency's Mars 2020 mission is right now as it makes its way to the Red Planet for a Feb. 18, 2021, landing.\n",
      "   </div>\n",
      "  </div>\n",
      " </div>\n",
      "</li>\n",
      "\n"
     ]
    }
   ],
   "source": [
    "# get the latest news data with beautifulsoup\n",
    "data = soup.find(\"li\", class_=\"slide\")\n",
    "print(data.prettify())"
   ]
  },
  {
   "cell_type": "code",
   "execution_count": 14,
   "metadata": {},
   "outputs": [
    {
     "name": "stdout",
     "output_type": "stream",
     "text": [
      "Follow NASA's Perseverance Rover in Real Time on Its Way to Mars\n",
      "----------------\n",
      "A crisply rendered web application can show you where the agency's Mars 2020 mission is right now as it makes its way to the Red Planet for a Feb. 18, 2021, landing.\n"
     ]
    }
   ],
   "source": [
    "# use bs to get news title and paragraph info\n",
    "news_title = data.find(\"div\", class_=\"content_title\").a.text\n",
    "news_p = data.find(\"div\", class_=\"rollover_description_inner\").text\n",
    "print(news_title)\n",
    "print(\"----------------\")\n",
    "print(news_p)"
   ]
  },
  {
   "cell_type": "code",
   "execution_count": 20,
   "metadata": {},
   "outputs": [],
   "source": [
    "# IMAGES \n",
    "\n",
    "# use splinter to navigate the page\n",
    "executable_path = {'executable_path': '/usr/local/bin/chromedriver'}\n",
    "browser = Browser('chrome', **executable_path, headless=False)\n"
   ]
  },
  {
   "cell_type": "code",
   "execution_count": 21,
   "metadata": {},
   "outputs": [],
   "source": [
    "# get the url for the image\n",
    "img_url = 'https://www.jpl.nasa.gov/spaceimages/?search=&category=Mars'\n",
    "\n",
    "# use browser to open the url for image\n",
    "browser.visit(img_url)"
   ]
  },
  {
   "cell_type": "code",
   "execution_count": 22,
   "metadata": {},
   "outputs": [
    {
     "name": "stdout",
     "output_type": "stream",
     "text": [
      "/spaceimages/images/largesize/PIA24073_hires.jpg\n"
     ]
    }
   ],
   "source": [
    "\n",
    "# create html to parse\n",
    "html = browser.html\n",
    "\n",
    "# create soup object to parse html\n",
    "soup = bs(html, \"html.parser\")\n",
    "\n",
    "# use beautifulsoup to navigate to the image\n",
    "image = soup.find(\"li\", class_=\"slide\").a[\"data-fancybox-href\"]\n",
    "\n",
    "# display larger size image\n",
    "print(image)"
   ]
  },
  {
   "cell_type": "code",
   "execution_count": 23,
   "metadata": {},
   "outputs": [
    {
     "name": "stdout",
     "output_type": "stream",
     "text": [
      "https://www.jpl.nasa.gov/spaceimages/images/largesize/PIA24073_hires.jpg\n"
     ]
    }
   ],
   "source": [
    "\n",
    "# create the url for the image\n",
    "featured_image_url = \"https://www.jpl.nasa.gov\" + image\n",
    "print(featured_image_url)"
   ]
  },
  {
   "cell_type": "code",
   "execution_count": 26,
   "metadata": {},
   "outputs": [
    {
     "name": "stdout",
     "output_type": "stream",
     "text": [
      "<!DOCTYPE html>\n",
      "<html dir=\"ltr\" lang=\"en\">\n",
      " <meta charset=\"utf-8\"/>\n",
      " <meta content=\"width=device-width,initial-scale=1,maximum-scale=1,user-scalable=0,viewport-fit=cover\" name=\"viewport\"/>\n",
      " <link href=\"//abs.twimg.com\" rel=\"preconnect\"/>\n",
      " <link href=\"//api.twitter.com\" rel=\"preconnect\"/>\n",
      " <link href=\"//pbs.twimg.com\" rel=\"preconnect\"/>\n",
      " <link href=\"//t.co\" rel=\"preconnect\"/>\n",
      " <link href=\"//video.twimg.com\" rel=\"preconnect\"/>\n",
      " <link href=\"//abs.twimg.com\" rel=\"dns-prefetch\"/>\n",
      " <link href=\"//api.twitter.com\" rel=\"dns-prefetch\"/>\n",
      " <link href=\"//pbs.twimg.com\" rel=\"dns-prefetch\"/>\n",
      " <link href=\"//t.co\" rel=\"dns-prefetch\"/>\n",
      " <link href=\"//video.twimg.com\" rel=\"dns-prefetch\"/>\n",
      " <link as=\"script\" crossorigin=\"anonymous\" href=\"https://abs.twimg.com/responsive-web/client-web-legacy/polyfills.87388485.js\" nonce=\"Y2ViY2E2OGUtODk3MC00MjA4LWIxZjUtNzQ1MzA1YmRiMGRj\" rel=\"preload\"/>\n",
      " <link as=\"script\" crossorigin=\"anonymous\" href=\"https://abs.twimg.com/responsive-web/client-web-legacy/vendors~main.55c72055.js\" nonce=\"Y2ViY2E2OGUtODk3MC00MjA4LWIxZjUtNzQ1MzA1YmRiMGRj\" rel=\"preload\"/>\n",
      " <link as=\"script\" crossorigin=\"anonymous\" href=\"https://abs.twimg.com/responsive-web/client-web-legacy/i18n/en.a6c5d025.js\" nonce=\"Y2ViY2E2OGUtODk3MC00MjA4LWIxZjUtNzQ1MzA1YmRiMGRj\" rel=\"preload\"/>\n",
      " <link as=\"script\" crossorigin=\"anonymous\" href=\"https://abs.twimg.com/responsive-web/client-web-legacy/main.a1312795.js\" nonce=\"Y2ViY2E2OGUtODk3MC00MjA4LWIxZjUtNzQ1MzA1YmRiMGRj\" rel=\"preload\"/>\n",
      " <meta content=\"2231777543\" property=\"fb:app_id\"/>\n",
      " <meta content=\"Twitter\" property=\"og:site_name\"/>\n",
      " <meta content=\"V0yIS0Ec_o3Ii9KThrCoMCkwTYMMJ_JYx_RSaGhFYvw\" name=\"google-site-verification\"/>\n",
      " <link crossorigin=\"use-credentials\" href=\"/manifest.json\" rel=\"manifest\"/>\n",
      " <link href=\"https://twitter.com/marswxreport?lang=en\" hreflang=\"x-default\" rel=\"alternate\"/>\n",
      " <link href=\"https://twitter.com/marswxreport?lang=ar\" hreflang=\"ar\" rel=\"alternate\"/>\n",
      " <link href=\"https://twitter.com/marswxreport?lang=bg\" hreflang=\"bg\" rel=\"alternate\"/>\n",
      " <link href=\"https://twitter.com/marswxreport?lang=bn\" hreflang=\"bn\" rel=\"alternate\"/>\n",
      " <link href=\"https://twitter.com/marswxreport?lang=ca\" hreflang=\"ca\" rel=\"alternate\"/>\n",
      " <link href=\"https://twitter.com/marswxreport?lang=cs\" hreflang=\"cs\" rel=\"alternate\"/>\n",
      " <link href=\"https://twitter.com/marswxreport?lang=da\" hreflang=\"da\" rel=\"alternate\"/>\n",
      " <link href=\"https://twitter.com/marswxreport?lang=de\" hreflang=\"de\" rel=\"alternate\"/>\n",
      " <link href=\"https://twitter.com/marswxreport?lang=el\" hreflang=\"el\" rel=\"alternate\"/>\n",
      " <link href=\"https://twitter.com/marswxreport?lang=en\" hreflang=\"en\" rel=\"alternate\"/>\n",
      " <link href=\"https://twitter.com/marswxreport?lang=en-GB\" hreflang=\"en-GB\" rel=\"alternate\"/>\n",
      " <link href=\"https://twitter.com/marswxreport?lang=es\" hreflang=\"es\" rel=\"alternate\"/>\n",
      " <link href=\"https://twitter.com/marswxreport?lang=eu\" hreflang=\"eu\" rel=\"alternate\"/>\n",
      " <link href=\"https://twitter.com/marswxreport?lang=fa\" hreflang=\"fa\" rel=\"alternate\"/>\n",
      " <link href=\"https://twitter.com/marswxreport?lang=fi\" hreflang=\"fi\" rel=\"alternate\"/>\n",
      " <link href=\"https://twitter.com/marswxreport?lang=tl\" hreflang=\"tl\" rel=\"alternate\"/>\n",
      " <link href=\"https://twitter.com/marswxreport?lang=fr\" hreflang=\"fr\" rel=\"alternate\"/>\n",
      " <link href=\"https://twitter.com/marswxreport?lang=ga\" hreflang=\"ga\" rel=\"alternate\"/>\n",
      " <link href=\"https://twitter.com/marswxreport?lang=gl\" hreflang=\"gl\" rel=\"alternate\"/>\n",
      " <link href=\"https://twitter.com/marswxreport?lang=gu\" hreflang=\"gu\" rel=\"alternate\"/>\n",
      " <link href=\"https://twitter.com/marswxreport?lang=he\" hreflang=\"he\" rel=\"alternate\"/>\n",
      " <link href=\"https://twitter.com/marswxreport?lang=hi\" hreflang=\"hi\" rel=\"alternate\"/>\n",
      " <link href=\"https://twitter.com/marswxreport?lang=hr\" hreflang=\"hr\" rel=\"alternate\"/>\n",
      " <link href=\"https://twitter.com/marswxreport?lang=hu\" hreflang=\"hu\" rel=\"alternate\"/>\n",
      " <link href=\"https://twitter.com/marswxreport?lang=id\" hreflang=\"id\" rel=\"alternate\"/>\n",
      " <link href=\"https://twitter.com/marswxreport?lang=it\" hreflang=\"it\" rel=\"alternate\"/>\n",
      " <link href=\"https://twitter.com/marswxreport?lang=ja\" hreflang=\"ja\" rel=\"alternate\"/>\n",
      " <link href=\"https://twitter.com/marswxreport?lang=kn\" hreflang=\"kn\" rel=\"alternate\"/>\n",
      " <link href=\"https://twitter.com/marswxreport?lang=ko\" hreflang=\"ko\" rel=\"alternate\"/>\n",
      " <link href=\"https://twitter.com/marswxreport?lang=mr\" hreflang=\"mr\" rel=\"alternate\"/>\n",
      " <link href=\"https://twitter.com/marswxreport?lang=ms\" hreflang=\"ms\" rel=\"alternate\"/>\n",
      " <link href=\"https://twitter.com/marswxreport?lang=nb\" hreflang=\"nb\" rel=\"alternate\"/>\n",
      " <link href=\"https://twitter.com/marswxreport?lang=nl\" hreflang=\"nl\" rel=\"alternate\"/>\n",
      " <link href=\"https://twitter.com/marswxreport?lang=pl\" hreflang=\"pl\" rel=\"alternate\"/>\n",
      " <link href=\"https://twitter.com/marswxreport?lang=pt\" hreflang=\"pt\" rel=\"alternate\"/>\n",
      " <link href=\"https://twitter.com/marswxreport?lang=ro\" hreflang=\"ro\" rel=\"alternate\"/>\n",
      " <link href=\"https://twitter.com/marswxreport?lang=ru\" hreflang=\"ru\" rel=\"alternate\"/>\n",
      " <link href=\"https://twitter.com/marswxreport?lang=sk\" hreflang=\"sk\" rel=\"alternate\"/>\n",
      " <link href=\"https://twitter.com/marswxreport?lang=sr\" hreflang=\"sr\" rel=\"alternate\"/>\n",
      " <link href=\"https://twitter.com/marswxreport?lang=sv\" hreflang=\"sv\" rel=\"alternate\"/>\n",
      " <link href=\"https://twitter.com/marswxreport?lang=ta\" hreflang=\"ta\" rel=\"alternate\"/>\n",
      " <link href=\"https://twitter.com/marswxreport?lang=th\" hreflang=\"th\" rel=\"alternate\"/>\n",
      " <link href=\"https://twitter.com/marswxreport?lang=tr\" hreflang=\"tr\" rel=\"alternate\"/>\n",
      " <link href=\"https://twitter.com/marswxreport?lang=uk\" hreflang=\"uk\" rel=\"alternate\"/>\n",
      " <link href=\"https://twitter.com/marswxreport?lang=ur\" hreflang=\"ur\" rel=\"alternate\"/>\n",
      " <link href=\"https://twitter.com/marswxreport?lang=vi\" hreflang=\"vi\" rel=\"alternate\"/>\n",
      " <link href=\"https://twitter.com/marswxreport?lang=zh\" hreflang=\"zh\" rel=\"alternate\"/>\n",
      " <link href=\"https://twitter.com/marswxreport?lang=zh-Hant\" hreflang=\"zh-Hant\" rel=\"alternate\"/>\n",
      " <link href=\"https://twitter.com/marswxreport\" rel=\"canonical\"/>\n",
      " <link color=\"#1da1f2\" href=\"https://abs.twimg.com/responsive-web/client-web-legacy/icon-svg.9e211f65.svg\" rel=\"mask-icon\" sizes=\"any\"/>\n",
      " <link href=\"//abs.twimg.com/favicons/twitter.ico\" rel=\"shortcut icon\" type=\"image/x-icon\"/>\n",
      " <link href=\"https://abs.twimg.com/responsive-web/client-web-legacy/icon-ios.8ea219d5.png\" rel=\"apple-touch-icon\" sizes=\"192x192\">\n",
      "  <meta content=\"yes\" name=\"mobile-web-app-capable\"/>\n",
      "  <meta content=\"Twitter\" name=\"apple-mobile-web-app-title\"/>\n",
      "  <meta content=\"white\" name=\"apple-mobile-web-app-status-bar-style\"/>\n",
      "  <meta content=\"#ffffff\" name=\"theme-color\"/>\n",
      "  <meta content=\"Ap6SMBNB0lQoXpXl4I9vyTJqJ7Y0X9tPd6Q6rN697iHdubQQxBcWHy21N3N7uEz7Ba5UKMbN+eLvDczBSbi27AsAAABfeyJvcmlnaW4iOiJodHRwczovL3R3aXR0ZXIuY29tOjQ0MyIsImZlYXR1cmUiOiJCYWRnaW5nIiwiZXhwaXJ5IjoxNTY0NTgyNzY2LCJpc1N1YmRvbWFpbiI6dHJ1ZX0=\" http-equiv=\"origin-trial\"/>\n",
      "  <meta content=\"Apir4chqTX+4eFxKD+ErQlKRB/VtZ/dvnLfd9Y9Nenl5r1xJcf81alryTHYQiuUlz9Q49MqGXqyaiSmqWzHUqQwAAABneyJvcmlnaW4iOiJodHRwczovL3R3aXR0ZXIuY29tOjQ0MyIsImZlYXR1cmUiOiJDb250YWN0c01hbmFnZXIiLCJleHBpcnkiOjE1NzUwMzUyODMsImlzU3ViZG9tYWluIjp0cnVlfQ==\" http-equiv=\"origin-trial\"/>\n",
      "  <meta content=\"AleGS26SZL7UA8Fe1DbvXzoay74bPTvrfKKGimIu1RI8vA+RtXOSVlizUkz2zU/fQoFoOTgCiCciP6pM5teaeQgAAABjeyJvcmlnaW4iOiJodHRwczovL3R3aXR0ZXIuY29tOjQ0MyIsImZlYXR1cmUiOiJTbXNSZWNlaXZlciIsImV4cGlyeSI6MTU3OTAyMDkyMSwiaXNTdWJkb21haW4iOnRydWV9\" http-equiv=\"origin-trial\"/>\n",
      "  <style>\n",
      "   html,body{height: 100%;}body{-ms-overflow-style:scrollbar;overflow-y:scroll;overscroll-behavior-y:none;}\n",
      "  </style>\n",
      "  <style id=\"react-native-stylesheet\">\n",
      "   [stylesheet-group=\"0\"]{}\n",
      "html{-ms-text-size-adjust:100%;-webkit-text-size-adjust:100%;-webkit-tap-highlight-color:rgba(0,0,0,0);}\n",
      "body{margin:0;}\n",
      "button::-moz-focus-inner,input::-moz-focus-inner{border:0;padding:0;}\n",
      "input::-webkit-inner-spin-button,input::-webkit-outer-spin-button,input::-webkit-search-cancel-button,input::-webkit-search-decoration,input::-webkit-search-results-button,input::-webkit-search-results-decoration{display:none;}\n",
      "[stylesheet-group=\"0.1\"]{}\n",
      ":focus:not([data-focusvisible-polyfill]){outline: none;}\n",
      "[stylesheet-group=\"1\"]{}\n",
      ".css-1dbjc4n{-ms-flex-align:stretch;-ms-flex-direction:column;-ms-flex-negative:0;-ms-flex-preferred-size:auto;-webkit-align-items:stretch;-webkit-box-align:stretch;-webkit-box-direction:normal;-webkit-box-orient:vertical;-webkit-flex-basis:auto;-webkit-flex-direction:column;-webkit-flex-shrink:0;align-items:stretch;border:0 solid black;box-sizing:border-box;display:-webkit-box;display:-moz-box;display:-ms-flexbox;display:-webkit-flex;display:flex;flex-basis:auto;flex-direction:column;flex-shrink:0;margin-bottom:0px;margin-left:0px;margin-right:0px;margin-top:0px;min-height:0px;min-width:0px;padding-bottom:0px;padding-left:0px;padding-right:0px;padding-top:0px;position:relative;z-index:0;}\n",
      ".css-901oao{border:0 solid black;box-sizing:border-box;color:rgba(0,0,0,1.00);display:inline;font:14px system-ui,-apple-system,BlinkMacSystemFont,\"Segoe UI\",Roboto,Ubuntu,\"Helvetica Neue\",sans-serif;margin-bottom:0px;margin-left:0px;margin-right:0px;margin-top:0px;padding-bottom:0px;padding-left:0px;padding-right:0px;padding-top:0px;white-space:pre-wrap;word-wrap:break-word;}\n",
      ".css-16my406{color:inherit;font:inherit;white-space:inherit;}\n",
      "[stylesheet-group=\"2\"]{}\n",
      ".r-13awgt0{-ms-flex-negative:1;-ms-flex-positive:1;-ms-flex-preferred-size:0%;-webkit-box-flex:1;-webkit-flex-basis:0%;-webkit-flex-grow:1;-webkit-flex-shrink:1;flex-basis:0%;flex-grow:1;flex-shrink:1;}\n",
      ".r-4qtqp9{display:inline-block;}\n",
      ".r-ywje51{margin-bottom:auto;margin-left:auto;margin-right:auto;margin-top:auto;}\n",
      ".r-hvic4v{display:none;}\n",
      ".r-1adg3ll{display:block;}\n",
      "[stylesheet-group=\"2.2\"]{}\n",
      ".r-12vffkv>*{pointer-events:auto;}\n",
      ".r-12vffkv{pointer-events:none!important;}\n",
      ".r-14lw9ot{background-color:rgba(255,255,255,1.00);}\n",
      ".r-1p0dtai{bottom:0px;}\n",
      ".r-1d2f490{left:0px;}\n",
      ".r-1xcajam{position:fixed;}\n",
      ".r-zchlnj{right:0px;}\n",
      ".r-ipm5af{top:0px;}\n",
      ".r-yyyyoo{fill:currentcolor;}\n",
      ".r-1xvli5t{height:1.25em;}\n",
      ".r-dnmrzs{max-width:100%;}\n",
      ".r-bnwqim{position:relative;}\n",
      ".r-1plcrui{vertical-align:text-bottom;}\n",
      ".r-lrvibr{-moz-user-select:none;-ms-user-select:none;-webkit-user-select:none;user-select:none;}\n",
      ".r-13gxpu9{color:rgba(29,161,242,1.00);}\n",
      ".r-wy61xf{height:72px;}\n",
      ".r-u8s1d{position:absolute;}\n",
      ".r-1blnp2b{width:72px;}\n",
      ".r-1ykxob0{top:60%;}\n",
      ".r-1b2b6em{line-height:2em;}\n",
      ".r-q4m81j{text-align:center;}\n",
      "  </style>\n",
      "  <body>\n",
      "   <noscript>\n",
      "    <form action=\"https://mobile.twitter.com/i/nojs_router?path=%2Fmarswxreport%3Flang%3Den\" method=\"POST\" style=\"background-color: #fff; position: fixed; top: 0; left: 0; right: 0; bottom: 0; z-index: 9999;\">\n",
      "     <div style=\"font-size: 18px; font-family: Helvetica,sans-serif; line-height: 24px; margin: 10%; width: 80%;\">\n",
      "      <p>\n",
      "       We've detected that JavaScript is disabled in your browser. Would you like to proceed to legacy Twitter?\n",
      "      </p>\n",
      "      <p style=\"margin: 20px 0;\">\n",
      "       <button style=\"background-color: #1da1f2; border-radius: 100px; border: none; box-shadow: none; color: #fff; cursor: pointer; font-size: 14px; font-weight: bold; line-height: 20px; padding: 6px 16px;\" type=\"submit\">\n",
      "        Yes\n",
      "       </button>\n",
      "      </p>\n",
      "     </div>\n",
      "    </form>\n",
      "   </noscript>\n",
      "   <div id=\"react-root\" style=\"height:100%;display:flex;\">\n",
      "    <div class=\"css-1dbjc4n r-13awgt0 r-12vffkv\">\n",
      "     <div class=\"css-1dbjc4n r-13awgt0 r-12vffkv\">\n",
      "      <div aria-label=\"Loading…\" class=\"css-1dbjc4n r-14lw9ot r-1p0dtai r-1d2f490 r-1xcajam r-zchlnj r-ipm5af\">\n",
      "       <svg class=\"r-1p0dtai r-13gxpu9 r-4qtqp9 r-yyyyoo r-wy61xf r-1d2f490 r-ywje51 r-dnmrzs r-u8s1d r-zchlnj r-1plcrui r-ipm5af r-lrvibr r-1blnp2b\" viewbox=\"0 0 24 24\">\n",
      "        <g>\n",
      "         <path d=\"M23.643 4.937c-.835.37-1.732.62-2.675.733.962-.576 1.7-1.49 2.048-2.578-.9.534-1.897.922-2.958 1.13-.85-.904-2.06-1.47-3.4-1.47-2.572 0-4.658 2.086-4.658 4.66 0 .364.042.718.12 1.06-3.873-.195-7.304-2.05-9.602-4.868-.4.69-.63 1.49-.63 2.342 0 1.616.823 3.043 2.072 3.878-.764-.025-1.482-.234-2.11-.583v.06c0 2.257 1.605 4.14 3.737 4.568-.392.106-.803.162-1.227.162-.3 0-.593-.028-.877-.082.593 1.85 2.313 3.198 4.352 3.234-1.595 1.25-3.604 1.995-5.786 1.995-.376 0-.747-.022-1.112-.065 2.062 1.323 4.51 2.093 7.14 2.093 8.57 0 13.255-7.098 13.255-13.254 0-.2-.005-.402-.014-.602.91-.658 1.7-1.477 2.323-2.41z\">\n",
      "         </path>\n",
      "        </g>\n",
      "       </svg>\n",
      "      </div>\n",
      "      <div class=\"css-1dbjc4n r-hvic4v r-1d2f490 r-1xcajam r-zchlnj r-1ykxob0\" id=\"ScriptLoadFailure\">\n",
      "       <form action=\"\" method=\"GET\">\n",
      "        <div class=\"css-901oao r-1adg3ll r-1b2b6em r-q4m81j\" dir=\"auto\">\n",
      "         <span class=\"css-901oao css-16my406\" dir=\"auto\">\n",
      "          Something went wrong, but don’t fret — let’s give it another shot.\n",
      "         </span>\n",
      "         <br/>\n",
      "         <input type=\"submit\" value=\"Try again\"/>\n",
      "        </div>\n",
      "       </form>\n",
      "      </div>\n",
      "     </div>\n",
      "    </div>\n",
      "   </div>\n",
      "   <script nonce=\"Y2ViY2E2OGUtODk3MC00MjA4LWIxZjUtNzQ1MzA1YmRiMGRj\">\n",
      "    window.__INITIAL_STATE__ = {\"optimist\":[],\"featureSwitch\":{\"config\":{\"2fa_multikey_management_enabled\":{\"value\":false},\"account_country_setting_countries_whitelist\":{\"value\":[\"ad\",\"ae\",\"af\",\"ag\",\"ai\",\"al\",\"am\",\"ao\",\"ar\",\"as\",\"at\",\"au\",\"aw\",\"ax\",\"az\",\"ba\",\"bb\",\"bd\",\"be\",\"bf\",\"bg\",\"bh\",\"bi\",\"bj\",\"bl\",\"bm\",\"bn\",\"bo\",\"bq\",\"br\",\"bs\",\"bt\",\"bv\",\"bw\",\"by\",\"bz\",\"ca\",\"cc\",\"cd\",\"cf\",\"cg\",\"ch\",\"ci\",\"ck\",\"cl\",\"cm\",\"co\",\"cr\",\"cu\",\"cv\",\"cw\",\"cx\",\"cy\",\"cz\",\"de\",\"dj\",\"dk\",\"dm\",\"do\",\"dz\",\"ec\",\"ee\",\"eg\",\"er\",\"es\",\"et\",\"fi\",\"fj\",\"fk\",\"fm\",\"fo\",\"fr\",\"ga\",\"gb\",\"gd\",\"ge\",\"gf\",\"gg\",\"gh\",\"gi\",\"gl\",\"gm\",\"gn\",\"gp\",\"gq\",\"gr\",\"gs\",\"gt\",\"gu\",\"gw\",\"gy\",\"hk\",\"hn\",\"hr\",\"ht\",\"hu\",\"id\",\"ie\",\"il\",\"im\",\"in\",\"io\",\"iq\",\"ir\",\"is\",\"it\",\"je\",\"jm\",\"jo\",\"jp\",\"ke\",\"kg\",\"kh\",\"ki\",\"km\",\"kn\",\"kr\",\"kw\",\"ky\",\"kz\",\"la\",\"lb\",\"lc\",\"li\",\"lk\",\"lr\",\"ls\",\"lt\",\"lu\",\"lv\",\"ly\",\"ma\",\"mc\",\"md\",\"me\",\"mf\",\"mg\",\"mh\",\"mk\",\"ml\",\"mn\",\"mo\",\"mp\",\"mq\",\"mr\",\"ms\",\"mt\",\"mu\",\"mv\",\"mw\",\"mx\",\"my\",\"mz\",\"na\",\"nc\",\"ne\",\"nf\",\"ng\",\"ni\",\"nl\",\"no\",\"np\",\"nr\",\"nu\",\"nz\",\"om\",\"pa\",\"pe\",\"pf\",\"pg\",\"ph\",\"pk\",\"pl\",\"pm\",\"pn\",\"pr\",\"ps\",\"pt\",\"pw\",\"py\",\"qa\",\"re\",\"ro\",\"rs\",\"ru\",\"rw\",\"sa\",\"sb\",\"sc\",\"se\",\"sg\",\"sh\",\"si\",\"sk\",\"sl\",\"sm\",\"sn\",\"so\",\"sr\",\"st\",\"sv\",\"sx\",\"sz\",\"tc\",\"td\",\"tf\",\"tg\",\"th\",\"tj\",\"tk\",\"tl\",\"tm\",\"tn\",\"to\",\"tr\",\"tt\",\"tv\",\"tw\",\"tz\",\"ua\",\"ug\",\"us\",\"uy\",\"uz\",\"va\",\"vc\",\"ve\",\"vi\",\"vn\",\"vu\",\"wf\",\"ws\",\"xk\",\"ye\",\"yt\",\"za\",\"zm\",\"zw\"]},\"author_moderated_replies_urt_container_enabled\":{\"value\":false},\"content_language_setting_enabled\":{\"value\":true},\"conversation_controls_highlighted_education_enabled\":{\"value\":true},\"conversation_controls_limited_replies_consumption_configuration\":{\"value\":\"no_reply\"},\"conversation_controls_limited_replies_creation_enabled\":{\"value\":true},\"dm_reactions_config_active_reactions\":{\"value\":[\"😂:funny\",\"😲:surprised\",\"😢:sad\",\"❤:like\",\"🔥:excited\",\"👍:agree\",\"👎:disagree\"]},\"dm_reactions_config_inactive_reactions\":{\"value\":[\"😠:angry\"]},\"employee_role\":{\"value\":false},\"guest_broadcasting_timeline_decorations_enabled\":{\"value\":true},\"hashflags_animation_like_button_enabled\":{\"value\":true},\"hashflags_animation_lottie_default_enabled\":{\"value\":false},\"home_timeline_latest_timeline_autoswitch_half_life_minutes\":{\"value\":43200},\"home_timeline_latest_timeline_autoswitch_threshold_multiplier\":{\"value\":2},\"home_timeline_latest_timeline_max_time_to_autoswitch_minutes\":{\"value\":5256000},\"home_timeline_latest_timeline_min_time_to_autoswitch_minutes\":{\"value\":5256000},\"home_timeline_latest_timeline_switch_enabled\":{\"value\":true},\"home_timeline_latest_timeline_threshold_to_increase_autoswitch_seconds\":{\"value\":60},\"home_timeline_spheres_copy_variant\":{\"value\":\"list_follow\"},\"home_timeline_spheres_custom_banner_image_reads_enabled\":{\"value\":true},\"home_timeline_spheres_detail_page_muting_enabled\":{\"value\":true},\"home_timeline_spheres_list_cell_thumbnail_enabled\":{\"value\":true},\"home_timeline_spheres_max_user_owned_or_subscribed_lists_count\":{\"value\":5},\"home_timeline_spheres_ranking_mode_control_enabled\":{\"value\":true},\"identity_verification_intake_enabled\":{\"value\":false},\"live_event_docking_enabled\":{\"value\":true},\"live_event_multi_video_auto_advance_dock_enabled\":{\"value\":true},\"live_event_multi_video_auto_advance_enabled\":{\"value\":true},\"live_event_multi_video_auto_advance_fullscreen_enabled\":{\"value\":false},\"live_event_multi_video_auto_advance_transition_duration_seconds\":{\"value\":5},\"live_event_multi_video_enabled\":{\"value\":true},\"live_event_timeline_default_refresh_rate_interval_seconds\":{\"value\":30},\"live_event_timeline_minimum_refresh_rate_interval_seconds\":{\"value\":10},\"live_event_timeline_server_controlled_refresh_rate_enabled\":{\"value\":true},\"live_event_vod_promoted_content_enabled\":{\"value\":true},\"livepipeline_client_enabled\":{\"value\":true},\"livepipeline_dm_features_enabled\":{\"value\":true},\"livepipeline_tweetengagement_enabled\":{\"value\":true},\"moment_annotations_enabled\":{\"value\":true},\"name_accessibility_unicode_detection_enabled\":{\"value\":false},\"network_layer_503_backoff_mode\":{\"value\":\"host\"},\"responsive_web_alt_svc\":{\"value\":false},\"responsive_web_alt_text_badge_enabled\":{\"value\":false},\"responsive_web_api_transition_enabled\":{\"value\":false},\"responsive_web_auto_logout_multiaccount_enabled\":{\"value\":true},\"responsive_web_auto_logout_restrictedauthtoken_enabled\":{\"value\":true},\"responsive_web_auto_logout_twid_enabled\":{\"value\":true},\"responsive_web_birdwatch_consumption_enabled\":{\"value\":false},\"responsive_web_birdwatch_contribution_enabled\":{\"value\":false},\"responsive_web_branch_cpid_enabled\":{\"value\":true},\"responsive_web_branch_sdk_enabled\":{\"value\":true},\"responsive_web_broadcast_page_card_enabled\":{\"value\":true},\"responsive_web_card_preload_mode\":{\"value\":\"prerender\"},\"responsive_web_check_browser_support_enabled\":{\"value\":true},\"responsive_web_cleanup_macaw_swift_indexed_db\":{\"value\":true},\"responsive_web_continue_as_always_enabled\":{\"value\":false},\"responsive_web_continue_as_param_enabled\":{\"value\":true},\"responsive_web_conversation_tree_enabled\":{\"value\":false},\"responsive_web_conversation_tree_selected_state_enabled\":{\"value\":true},\"responsive_web_conversation_tree_toggle\":{\"value\":false},\"responsive_web_csrf_clientside_enabled\":{\"value\":true},\"responsive_web_dark_mode_scrollbars_enabled\":{\"value\":false},\"responsive_web_dcm_2_enabled\":{\"value\":true},\"responsive_web_dm_composer_media_toggle_enabled\":{\"value\":false},\"responsive_web_dm_entry_anchoring_top_anchoring_default_enabled\":{\"value\":true},\"responsive_web_dm_health_convo_block_report_button_enabled\":{\"value\":true},\"responsive_web_dm_health_convo_group_changes_enabled\":{\"value\":true},\"responsive_web_dm_health_convo_inline_profile_info_enabled\":{\"value\":true},\"responsive_web_dm_health_inbox_request_cell_social_proof_enabled\":{\"value\":false},\"responsive_web_dm_quick_access_enabled\":{\"value\":true},\"responsive_web_dm_quick_access_no_empty_drawer_enabled\":{\"value\":true},\"responsive_web_dm_quick_access_with_close_enabled\":{\"value\":false},\"responsive_web_elevated_qt_label_configuration\":{\"value\":\"\"},\"responsive_web_elevated_qt_quote_action_menu_verbiage_enabled\":{\"value\":false},\"responsive_web_elevated_qt_tweet_detail_stat_ordering_enabled\":{\"value\":false},\"responsive_web_eu_countries\":{\"value\":[\"at\",\"be\",\"bg\",\"ch\",\"cy\",\"cz\",\"de\",\"dk\",\"ee\",\"es\",\"fi\",\"fr\",\"gb\",\"gr\",\"hr\",\"hu\",\"ie\",\"is\",\"it\",\"li\",\"lt\",\"lu\",\"lv\",\"mt\",\"nl\",\"no\",\"pl\",\"pt\",\"ro\",\"se\",\"si\",\"sk\"]},\"responsive_web_extension_compatibility_hide\":{\"value\":false},\"responsive_web_extension_compatibility_impression_guard\":{\"value\":true},\"responsive_web_extension_compatibility_override_param\":{\"value\":false},\"responsive_web_extension_compatibility_scribe\":{\"value\":true},\"responsive_web_extension_compatibility_size_threshold\":{\"value\":50},\"responsive_web_fake_root_twitter_domain_for_testing\":{\"value\":false},\"responsive_web_feature_switch_dash_enabled\":{\"value\":false},\"responsive_web_fetch_hashflags_on_boot\":{\"value\":true},\"responsive_web_fleets_dm_consumption_enabled\":{\"value\":false},\"responsive_web_framerate_tracking_home_enabled\":{\"value\":false},\"responsive_web_graphql_amr_timeline\":{\"value\":false},\"responsive_web_graphql_bookmarks\":{\"value\":false},\"responsive_web_graphql_dark_reads_probability\":{\"value\":0},\"responsive_web_graphql_list_crud\":{\"value\":true},\"responsive_web_graphql_list_management_timelines_enabled\":{\"value\":false},\"responsive_web_graphql_list_members_subscribers_enabled\":{\"value\":false},\"responsive_web_graphql_list_operations\":{\"value\":false},\"responsive_web_graphql_tweet_results\":{\"value\":false},\"responsive_web_graphql_user_results\":{\"value\":false},\"responsive_web_graphql_verify_credentials_enabled\":{\"value\":true},\"responsive_web_guest_token_reporting\":{\"value\":true},\"responsive_web_hide_media_previews_enabled\":{\"value\":false},\"responsive_web_history_tracker_enabled\":{\"value\":true},\"responsive_web_hoisting_anchor_invalidation_enabled\":{\"value\":false},\"responsive_web_home_wait_for_seenIds_enabled\":{\"value\":false},\"responsive_web_horizon_video_player_enabled\":{\"value\":true},\"responsive_web_hover_on_mousemove_enabled\":{\"value\":false},\"responsive_web_html_archive_renderer_enabled\":{\"value\":true},\"responsive_web_hw_cards_in_dms_enabled\":{\"value\":true},\"responsive_web_inline_reply_enabled\":{\"value\":false},\"responsive_web_inline_reply_with_fab_enabled\":{\"value\":false},\"responsive_web_instream_video_enabled\":{\"value\":true},\"responsive_web_instream_video_redesign_enabled\":{\"value\":false},\"responsive_web_list_hover_cards_enabled\":{\"value\":true},\"responsive_web_live_video_parity_periscope_auth_enabled\":{\"value\":false},\"responsive_web_login_input_type_email_enabled\":{\"value\":false},\"responsive_web_login_signup_sheet_app_install_cta_enabled\":{\"value\":true},\"responsive_web_media_upload_limit_2g\":{\"value\":250},\"responsive_web_media_upload_limit_3g\":{\"value\":1500},\"responsive_web_media_upload_limit_slow_2g\":{\"value\":150},\"responsive_web_media_upload_md5_hashing_enabled\":{\"value\":false},\"responsive_web_media_upload_target_jpg_pixels_per_byte\":{\"value\":6},\"responsive_web_menu_section_divider_enabled\":{\"value\":false},\"responsive_web_modern_bundle_enabled\":{\"value\":true},\"responsive_web_modern_bundle_sw_enabled\":{\"value\":true},\"responsive_web_moment_maker_annotations_enabled\":{\"value\":false},\"responsive_web_moment_maker_enabled\":{\"value\":false},\"responsive_web_multiple_account_limit\":{\"value\":5},\"responsive_web_narrow_tweet_actions_enabled\":{\"value\":false},\"responsive_web_new_client_events_enabled\":{\"value\":false},\"responsive_web_not_my_account_screen_enabled\":{\"value\":true},\"responsive_web_ntab_verified_mentions_vit_internal_dogfood\":{\"value\":false},\"responsive_web_ocf_sms_autoverify_enabled\":{\"value\":false},\"responsive_web_promoted_trends_event_migration_enabled\":{\"value\":false},\"responsive_web_promoted_tweet_param_append_enabled\":{\"value\":false},\"responsive_web_promoted_tweet_url_rewrite_enabled\":{\"value\":false},\"responsive_web_quick_promote_enabled\":{\"value\":false},\"responsive_web_redirect_to_app_enabled\":{\"value\":false},\"responsive_web_report_page_not_found\":{\"value\":false},\"responsive_web_rich_tweet_landing_enabled\":{\"value\":true},\"responsive_web_scheduling_edit_enabled\":{\"value\":false},\"responsive_web_scheduling_enabled\":{\"value\":false},\"responsive_web_scheduling_entry_point\":{\"value\":\"overflow\"},\"responsive_web_scroller_autopoll_enabled\":{\"value\":false},\"responsive_web_scroller_v3_enabled\":{\"value\":false},\"responsive_web_search_dms_enabled\":{\"value\":true},\"responsive_web_second_degree_replies_nudge_force_enabled\":{\"value\":false},\"responsive_web_second_degree_replies_nudge_get_enabled\":{\"value\":false},\"responsive_web_second_degree_replies_nudge_show_enabled\":{\"value\":false},\"responsive_web_serviceworker_safari_disabled\":{\"value\":false},\"responsive_web_settings_revamp_enabled\":{\"value\":false},\"responsive_web_settings_timeline_refresh_background_interval\":{\"value\":0},\"responsive_web_settings_timeline_refresh_enabled\":{\"value\":false},\"responsive_web_settings_timeline_refresh_instant_default\":{\"value\":true},\"responsive_web_sports_carousel\":{\"value\":false},\"responsive_web_trends_setting_new_endpoints\":{\"value\":true},\"responsive_web_trigger_test_backoff_on_bookmark\":{\"value\":false},\"responsive_web_tweet_drafts_enabled\":{\"value\":false},\"responsive_web_tweets_pill_local_enabled\":{\"value\":true},\"responsive_web_unified_cards_live_event_enabled\":{\"value\":true},\"responsive_web_unified_cards_poll2choice_image_enabled\":{\"value\":true},\"responsive_web_unified_cards_poll2choice_video_enabled\":{\"value\":true},\"responsive_web_unified_cards_poll3choice_image_enabled\":{\"value\":true},\"responsive_web_unified_cards_poll3choice_video_enabled\":{\"value\":true},\"responsive_web_unified_cards_poll4choice_image_enabled\":{\"value\":true},\"responsive_web_unified_cards_poll4choice_video_enabled\":{\"value\":true},\"responsive_web_unsupported_entry_tombstone\":{\"value\":false},\"responsive_web_use_app_prompt_copy_variant\":{\"value\":\"prompt_better\"},\"responsive_web_use_app_prompt_enabled\":{\"value\":true},\"responsive_web_verification_v2_enabled\":{\"value\":true},\"responsive_web_video_native_fullscreen_enabled\":{\"value\":true},\"responsive_web_video_promoted_logging_enabled\":{\"value\":true},\"responsive_web_vod_muted_captions_enabled\":{\"value\":true},\"responsive_web_vs_config_desktop_assumed_item_height\":{\"value\":100},\"responsive_web_vs_config_resize_observer_enabled\":{\"value\":true},\"responsive_web_zipkin_api_requests_enabled\":{\"value\":false},\"responsive_web_zipkin_api_requests_paths_allowlist\":{\"value\":[\"/2/timeline/home.json\"]},\"scribe_api_error_sample_size\":{\"value\":0},\"scribe_api_sample_size\":{\"value\":100},\"scribe_cdn_host_list\":{\"value\":[\"si0.twimg.com\",\"si1.twimg.com\",\"si2.twimg.com\",\"si3.twimg.com\",\"a0.twimg.com\",\"a1.twimg.com\",\"a2.twimg.com\",\"a3.twimg.com\",\"abs.twimg.com\",\"amp.twimg.com\",\"o.twimg.com\",\"pbs.twimg.com\",\"pbs-eb.twimg.com\",\"pbs-ec.twimg.com\",\"pbs-v6.twimg.com\",\"pbs-h1.twimg.com\",\"pbs-h2.twimg.com\",\"video.twimg.com\",\"platform.twitter.com\",\"cdn.api.twitter.com\",\"ton.twimg.com\",\"v.cdn.vine.co\",\"mtc.cdn.vine.co\",\"edge.vncdn.co\",\"mid.vncdn.co\"]},\"scribe_cdn_sample_size\":{\"value\":50},\"search_channels_description_enabled\":{\"value\":true},\"search_channels_discovery_page_enabled\":{\"value\":false},\"search_features_deep_link_request_params_enabled\":{\"value\":true},\"soft_interventions_forward_pivot_enabled\":{\"value\":true},\"soft_interventions_inner_qt_forward_pivot_enabled\":{\"value\":false},\"topic_landing_page_enabled\":{\"value\":true},\"topic_landing_page_share_enabled\":{\"value\":false},\"topics_descriptions_enabled\":{\"value\":true},\"topics_dismiss_control_enabled\":{\"value\":true},\"topics_new_mgmt_enabled\":{\"value\":true},\"topics_new_social_context_bottom_border_enabled\":{\"value\":false},\"topics_new_social_context_enabled\":{\"value\":false},\"topics_new_social_context_icon_color_enabled\":{\"value\":false},\"topics_peek_home_enabled\":{\"value\":false},\"topics_peek_search_enabled\":{\"value\":false},\"traffic_rewrite_map\":{\"value\":[]},\"tweet_limited_actions_config_enabled\":{\"value\":true},\"tweet_limited_actions_config_non_compliant\":{\"value\":[\"reply\",\"retweet\",\"like\",\"send_via_dm\",\"add_to_bookmarks\",\"add_to_moment\",\"pin_to_profile\",\"view_tweet_activity\",\"share_tweet_via\"]},\"unified_cards_cta_color_blue_cta\":{\"value\":true},\"user_display_name_max_limit\":{\"value\":50},\"web_video_bitrate_persistence_enabled\":{\"value\":false},\"web_video_hls_android_mse_enabled\":{\"value\":true},\"web_video_hls_mp4_threshold_sec\":{\"value\":0},\"web_video_hlsjs_max_buffer_length_pause\":{\"value\":3},\"web_video_hlsjs_max_buffer_length_play\":{\"value\":3},\"web_video_hlsjs_version\":{\"value\":\"\"}},\"debug\":{},\"impression_pointers\":{\"responsive_web_redirect_to_app_enabled\":[\"rweb_redirect_to_app_10853\"]},\"impressions\":{\"rweb_redirect_to_app_10853\":{\"key\":\"rweb_redirect_to_app_10853\",\"bucket\":\"control\",\"version\":2}},\"featureSetToken\":\"6e4363f23195fc05e9706cb0b4f765c7dbd7f06e\",\"isLoaded\":true,\"isLoading\":false,\"keysRead\":{},\"settingsVersion\":\"1b44aa9cc8f407a3d951a29ca5a7d319\"},\"urt\":{},\"entities\":{\"users\":{\"entities\":{},\"errors\":{},\"fetchStatus\":{}},\"tweets\":{\"entities\":{},\"errors\":{},\"fetchStatus\":{}},\"cards\":{\"entities\":{},\"errors\":{},\"fetchStatus\":{}}},\"toasts\":[],\"devices\":{\"browserPush\":{\"fetchStatus\":\"none\",\"pushNotificationsPrompt\":{\"dismissed\":false,\"fetchStatus\":\"none\"},\"subscribed\":false,\"supported\":null},\"devices\":{\"data\":{\"emails\":[],\"phone_numbers\":[]},\"fetchStatus\":\"none\"},\"notificationSettings\":{\"push_settings\":{\"error\":null,\"fetchStatus\":\"none\"},\"push_settings_template\":{\"template\":{\"settings\":[]}},\"sms_settings\":{\"error\":null,\"fetchStatus\":\"none\"},\"sms_settings_template\":{\"template\":{\"settings\":[]}},\"checkin_time\":null}},\"typeaheadUsers\":{\"fetchStatus\":\"none\",\"users\":{},\"denylist\":{},\"lastUpdated\":0,\"index\":{}},\"session\":{\"country\":\"US\",\"emailLiteLoginEligibility\":{\"fetchStatus\":\"none\"},\"guestId\":\"159808400234492951\",\"language\":\"en\",\"oneFactorLoginEligibility\":{\"fetchStatus\":\"none\"}},\"settings\":{\"local\":{\"nextPushCheckin\":0,\"shouldAutoPlayGif\":false,\"scale\":\"normal\",\"themeColor\":\"blue\",\"highContrastEnabled\":false,\"themeBackground\":\"light\",\"loginPromptLastShown\":0,\"mediaPreviewsEnabled\":true,\"reducedMotionEnabled\":false,\"conversationTreeEnabled\":false,\"showTweetMediaDetailDrawer\":true},\"remote\":{\"settings\":{\"display_sensitive_media\":false},\"fetchStatus\":\"none\"},\"dataSaver\":{\"dataSaverMode\":false},\"transient\":{\"dtabBarInfo\":{\"dtabAll\":null,\"dtabRweb\":null,\"hide\":false},\"loginPromptShown\":false,\"lastViewedDmInboxPath\":\"/messages\",\"themeFocus\":\"\"}},\"hashflags\":{\"fetchStatus\":\"none\",\"hashflags\":{}}};\n",
      "window.__META_DATA__ = {\"env\":\"prod\",\"isFromDynamicRenderer\":false,\"isLoggedIn\":false,\"isRTL\":false,\"hasMultiAccountCookie\":false,\"uaParserTags\":[\"m2\",\"rweb_unsupported\",\"msw\"],\"serverDate\":1598084002406,\"sha\":\"fc6861d8fe7f7f5266607babc75d7b5127269c6f\"};\n",
      "   </script>\n",
      "   <script nonce=\"Y2ViY2E2OGUtODk3MC00MjA4LWIxZjUtNzQ1MzA1YmRiMGRj\">\n",
      "    document.cookie = decodeURIComponent(\"gt=1297084433971982336; Max-Age=10800; Domain=.twitter.com; Path=/; Secure\");\n",
      "   </script>\n",
      "   <script charset=\"utf-8\" nonce=\"Y2ViY2E2OGUtODk3MC00MjA4LWIxZjUtNzQ1MzA1YmRiMGRj\" type=\"text/javascript\">\n",
      "    window.__SCRIPTS_LOADED__ = {};\n",
      "  !function(e){function n(n){for(var o,t,i=n[0],l=n[1],c=n[2],s=0,b=[];s<i.length;s++)t=i[s],Object.prototype.hasOwnProperty.call(a,t)&&a[t]&&b.push(a[t][0]),a[t]=0;for(o in l)Object.prototype.hasOwnProperty.call(l,o)&&(e[o]=l[o]);for(u&&u(n);b.length;)b.shift()();return r.push.apply(r,c||[]),d()}function d(){for(var e,n=0;n<r.length;n++){for(var d=r[n],o=!0,i=1;i<d.length;i++){var l=d[i];0!==a[l]&&(o=!1)}o&&(r.splice(n--,1),e=t(t.s=d[0]))}return e}var o={},a={1:0},r=[];function t(n){if(o[n])return o[n].exports;var d=o[n]={i:n,l:!1,exports:{}};return e[n].call(d.exports,d,d.exports,t),d.l=!0,d.exports}t.e=function(e){var n=[],d=a[e];if(0!==d)if(d)n.push(d[2]);else{var o=new Promise((function(n,o){d=a[e]=[n,o]}));n.push(d[2]=o);var r,i=document.createElement(\"script\");i.charset=\"utf-8\",i.timeout=120,t.nc&&i.setAttribute(\"nonce\",t.nc),i.src=function(e){return t.p+\"\"+({0:\"sharedCore\",3:\"shared~loader.DMDrawer~bundle.Compose~bundle.RichTextCompose~bundle.DirectMessages~bundle.DMRichTextCompose~b\",4:\"shared~bundle.ComposeMedia~bundle.Display~bundle.Ocf~bundle.Settings~bundle.SettingsProfile~bundle.UserLists~\",5:\"shared~bundle.Explore~bundle.GenericTimeline~bundle.LiveEvent~bundle.Place~bundle.Search~bundle.QuoteTweetAct\",6:\"shared~bundle.ComposeMedia~bundle.Ocf~bundle.SettingsProfile~bundle.UserLists\",7:\"shared~bundle.DirectMessages~bundle.TweetMediaDetail~bundle.UserAvatar~bundle.UserHeader\",8:\"shared~bundle.Compose~bundle.RichTextCompose~bundle.PlainTextCompose\",9:\"shared~bundle.Place~bundle.Search~bundle.QuoteTweetActivity\",10:\"shared~bundle.RichTextCompose~bundle.DMRichTextCompose~ondemand.RichText\",11:\"shared~bundle.Settings~ondemand.SettingsInternals~bundle.SettingsTransparency\",12:\"shared~loader.DMDrawer~bundle.DirectMessages~bundle.DMRichTextCompose\",13:\"shared~bundle.Display~bundle.Settings\",14:\"shared~bundle.Explore~loader.ExploreSidebar\",15:\"shared~bundle.LiveEvent~bundle.UserMoments\",16:\"shared~bundle.TopicPeek~ondemand.EmojiPicker\",17:\"shared~loader.DashMenu~bundle.Account\",18:\"shared~loader.Typeahead~ondemand.SettingsInternals\",19:\"shared~ondemand.lex~loaders.video.PlayerBase\",20:\"bundle.AboutThisAd\",21:\"bundle.Account\",22:\"bundle.AdvancedSearch\",24:\"bundle.Bookmarks\",25:\"bundle.Collection\",26:\"bundle.Compose\",27:\"bundle.ComposeMedia\",28:\"bundle.ConnectTab\",29:\"bundle.Conversation\",30:\"bundle.ConversationParticipants\",31:\"bundle.DMRichTextCompose\",32:\"bundle.DirectMessages\",33:\"bundle.Display\",34:\"bundle.Download\",35:\"bundle.Explore\",36:\"bundle.ExploreTopics\",37:\"bundle.FollowerRequests\",38:\"bundle.GenericTimeline\",39:\"bundle.GifSearch\",40:\"bundle.HomeTimeline\",41:\"bundle.KeyboardShortcuts\",42:\"bundle.LiveEvent\",43:\"bundle.LoggedOutHome\",44:\"bundle.Login\",45:\"bundle.Logout\",46:\"bundle.Moment\",47:\"bundle.MomentMaker\",48:\"bundle.MultiAccount\",49:\"bundle.NetworkInstrument\",50:\"bundle.NotMyAccount\",51:\"bundle.NotificationDetail\",52:\"bundle.Notifications\",53:\"bundle.Ocf\",54:\"bundle.Place\",55:\"bundle.PlainTextCompose\",56:\"bundle.ProfileRedirect\",57:\"bundle.QuoteTweetActivity\",58:\"bundle.Report\",59:\"bundle.RichTextCompose\",60:\"bundle.Search\",61:\"bundle.Settings\",62:\"bundle.SettingsInternals\",63:\"bundle.SettingsProfile\",64:\"bundle.SettingsRevamp\",65:\"bundle.SettingsTransparency\",66:\"bundle.SmsLogin\",67:\"bundle.TopicPeek\",68:\"bundle.Topics\",69:\"bundle.Trends\",70:\"bundle.TweetActivity\",71:\"bundle.TweetMediaDetail\",72:\"bundle.TweetMediaTags\",73:\"bundle.Twitterversary\",74:\"bundle.UserAvatar\",75:\"bundle.UserFollowLists\",76:\"bundle.UserHeader\",77:\"bundle.UserLists\",78:\"bundle.UserMoments\",79:\"bundle.UserProfile\",80:\"bundle.UserRedirect\",130:\"loader.AbsolutePower\",131:\"loader.AppModules\",132:\"loader.DMDrawer\",133:\"loader.DashMenu\",134:\"loader.ExploreSidebar\",135:\"loader.FeedbackSheet\",136:\"loader.FeedbackTombstone\",137:\"loader.HWCard\",138:\"loader.NewTweetsPill\",139:\"loader.PeriscopeOverlay\",140:\"loader.ProfileClusterFollow\",141:\"loader.PushNotificationsPrompt\",142:\"loader.SideNav\",143:\"loader.SignupModule\",144:\"loader.TimelineGap\",145:\"loader.TimelineRenderer\",146:\"loader.TweetCurationActionMenu\",147:\"loader.TweetPhotos\",148:\"loader.Typeahead\",149:\"loader.WideLayout\",150:\"loader.directMessagesData\",151:\"loader.graphQLDarkReads\",152:\"loader.personalizationData\",153:\"loaders.video.PlayerBase\",154:\"loaders.video.PlayerHls13\",155:\"loaders.video.PlayerUi\",156:\"loaders.video.VideoPlayerDefaultUI\",158:\"ondemand.Balloons\",159:\"ondemand.BranchSdk\",160:\"ondemand.CarouselScroller\",161:\"ondemand.ComposeScheduling\",162:\"ondemand.Dropdown\",163:\"ondemand.EditBirthdate\",164:\"ondemand.EditPinned\",165:\"ondemand.EmojiPicker\",166:\"ondemand.HoverCard\",167:\"ondemand.InlinePlayer\",168:\"ondemand.IntentPrompt\",169:\"ondemand.LottieWeb\",170:\"ondemand.MicrosoftInterface\",171:\"ondemand.ProfileSidebar\",172:\"ondemand.RichText\",173:\"ondemand.SettingsInternals\",174:\"ondemand.countries-ar\",175:\"ondemand.countries-bg\",176:\"ondemand.countries-bn\",177:\"ondemand.countries-ca\",178:\"ondemand.countries-cs\",179:\"ondemand.countries-da\",180:\"ondemand.countries-de\",181:\"ondemand.countries-el\",182:\"ondemand.countries-en\",183:\"ondemand.countries-en-GB\",184:\"ondemand.countries-es\",185:\"ondemand.countries-eu\",186:\"ondemand.countries-fa\",187:\"ondemand.countries-fi\",188:\"ondemand.countries-fil\",189:\"ondemand.countries-fr\",190:\"ondemand.countries-ga\",191:\"ondemand.countries-gl\",192:\"ondemand.countries-gu\",193:\"ondemand.countries-he\",194:\"ondemand.countries-hi\",195:\"ondemand.countries-hr\",196:\"ondemand.countries-hu\",197:\"ondemand.countries-id\",198:\"ondemand.countries-it\",199:\"ondemand.countries-ja\",200:\"ondemand.countries-kn\",201:\"ondemand.countries-ko\",202:\"ondemand.countries-mr\",203:\"ondemand.countries-ms\",204:\"ondemand.countries-nb\",205:\"ondemand.countries-nl\",206:\"ondemand.countries-pl\",207:\"ondemand.countries-pt\",208:\"ondemand.countries-ro\",209:\"ondemand.countries-ru\",210:\"ondemand.countries-sk\",211:\"ondemand.countries-sr\",212:\"ondemand.countries-sv\",213:\"ondemand.countries-ta\",214:\"ondemand.countries-th\",215:\"ondemand.countries-tr\",216:\"ondemand.countries-uk\",217:\"ondemand.countries-ur\",218:\"ondemand.countries-zh\",219:\"ondemand.countries-zh-Hant\",220:\"ondemand.emoji.ar\",221:\"ondemand.emoji.bg\",222:\"ondemand.emoji.bn\",2224:\"ondemand.emoji.cs\",225:\"ondemand.emoji.da\",226:\"ondemand.emoji.de\",227:\"ondemand.emoji.el\",228:\"ondemand.emoji.en\",229:\"ondemand.emoji.en-GB\",230:\"ondemand.emoji.en-ss\",231:\"ondemand.emoji.en-xx\",232:\"ondemand.emoji.es\",233:\"ondemand.emoji.eu\",234:\"ondemand.emoji.fa\",235:\"ondemand.emoji.fi\",236:\"ondemand.emoji.fil\",237:\"ondemand.emoji.fr\",238:\"ondemand.emoji.ga\",239:\"ondemand.emoji.gl\",240:\"ondemand.emoji.gu\",241:\"ondemand.emoji.he\",242:\"ondemand.emoji.hi\",243:\"ondemand.emoji.hr\",244:\"ondemand.emoji.hu\",245:\"ondemand.emoji.id\",246:\"ondemand.emoji.it\",247:\"ondemand.emoji.ja\",248:\"ondemand.emoji.kn\",249:\"ondemand.emoji.ko\",250:\"ondemand.emoji.mr\",251:\"ondemand.emoji.ms\",252:\"ondemand.emoji.nb\",253:\"ondemand.emoji.nl\",254:\"ondemand.emoji.pl\",255:\"ondemand.emoji.pt\",256:\"ondemand.emoji.ro\",257:\"ondemand.emoji.ru\",258:\"ondemand.emoji.sk\",259:\"ondemand.emoji.sr\",260:\"ondemand.emoji.sv\",261:\"ondemand.emoji.ta\",262:\"ondemand.emoji.th\",263:\"ondemand.emoji.tr\",264:\"ondemand.emoji.uk\",265:\"ondemand.emoji.ur\",266:\"ondemand.emoji.vi\",267:\"ondemand.emoji.zh\",268:\"ondemand.emoji.zh-Hant\",269:\"ondemand.framerateTracking\",270:\"ondemand.lex\",271:\"ondemand.video.PlayerHls12\"}[e]||e)+\".\"+{0:\"e7e156b\",3:\"5b77059\",4:\"941eace\",5:\"f53d49a\",6:\"7b3c8f5\",7:\"9c3dc6a\",8:\"8fe5474\",9:\"199f8c8\",10:\"f1677d6\",11:\"b4d3f1e\",12:\"c0e9bf7\",13:\"d357344\",14:\"bff3133\",15:\"1a467de\",16:\"dcdf615\",17:\"aa94170\",18:\"5ff3c9b\",19:\"2300a6a\",20:\"a71fd2d\",21:\"f647010\",22:\"9245e34\",24:\"65ee5a0\",25:\"776b6cb\",26:\"ad4b199\",27:\"8b48b1b\",28:\"858fc06\",29:\"926dbae\",30:\"19d0112\",31:\"0f59037\",32:\"998a98e\",33:\"633da1c\",34:\"86eb4cc\",35:\"dd8e325\",36:\"c3fe94e\",37:\"60e13cb\",38:\"2d19a0c\",39:\"d9d2267\",40:\"706b2f6\",41:\"8ee5a92\",42:\"1877cf4\",43:\"7dd582f\",44:\"5c2e2fc\",45:\"cabbf0c\",46:\"1bd1b3b\",47:\"9bdc4a9\",48:\"2637a9c\",49:\"f63ae36\",50:\"559b58d\",51:\"1dd3db2\",52:\"3b25fb6\",53:\"4802f71\",54:\"5649f7d\",55:\"a404385\",56:\"1e1e3d6\",57:\"20c7677\",58:\"95d2ea1\",59:\"86a7703\",60:\"5639dc3\",61:\"2e0442f\",62:\"92b79a4\",63:\"56af447\",64:\"f940cf5\",65:\"db44f03\",66:\"12973d0\",67:\"1db4a8a\",68:\"775cd54\",69:\"8188c32\",70:\"17ff4cb\",71:\"fad27ed\",72:\"45f25fd\",73:\"bc1a2c7\",74:\"847616a\",75:\"678e833\",76:\"9d6d74c\",77:\"dbd2c3c\",78:\"6f4a2ee\",79:\"9f351af\",80:\"35d68c5\",130:\"24317c0\",131:\"5e54727\",132:\"5333322\",133:\"423bea5\",134:\"61ab679\",135:\"a74faf9\",136:\"e7a0637\",137:\"ba847a3\",138:\"fcf6f37\",139:\"241ecfb\",140:\"ebdca00\",141:\"4e90e9d\",142:\"71f4a64\",143:\"85d8253\",144:\"52de031\",145:\"d72e453\",146:\"3f23da8\",147:\"3ad95f8\",148:\"7df7508\",149:\"489f5ee\",150:\"5d20dc1\",151:\"6b71f97\",152:\"4b89eab\",153:\"8caf36e\",154:\"5fd0ecf\",155:\"839d499\",156:\"3d818bf\",158:\"361491b\",159:\"e60e518\",160:\"6c35021\",161:\"3781f76\",162:\"efa8562\",163:\"7699608\",164:\"1972fd9\",165:\"b269711\",166:\"f7b1a66\",167:\"9f180a3\",168:\"eee9da0\",169:\"a541cfa\",170:\"16e70d2\",171:\"9feb57c\",172:\"55e523a\",173:\"5efbdb1\",174:\"c1ca4df\",175:\"4c51a46\",176:\"7f49ad7\",177:\"ad054f0\",178:\"5fdcd7d\",179:\"48d28f7\",180:\"9f07d70\",181:\"d97589c\",182:\"7a5f9b5\",183:\"b14d352\",184:\"a3ee3f7\",185:\"6cf9127\",186:\"e685d43\",187:\"5774f29\",188:\"ab3320b\",189:\"f7b46e6\",190:\"e178e5f\",191:\"2ab6bc6\",192:\"e1a8ae0\",193:\"b56f1f8\",194:\"8a8585d\",195:\"ccc9cef\",196:\"b3ddfd2\",197:\"c44cffa\",198:\"bb2a53c\",199:\"e1af171\",200:\"e7c4c8f\",201:\"0eb255f\",202:\"cde5e68\",203:\"d7eb4b4\",204:\"d20ab6b\",205:\"15c2d9e\",206:\"fcbaf6e\",207:\"4cebd35\",208:\"0a77f73\",209:\"9536e6e\",210:\"d5b09e4\",211:\"71d8b2a\",212:\"211f59f\",213:\"df92179\",214:\"1f16e87\",215:\"cfbe2ec\",216:\"463eb57\",217:\"5b8d786\",218:\"1a41607\",219:\"bcd472e\",220:\"cf87d0e\",221:\"189ea05\",222:\"0d7c15a\",2224:\"441102e\",225:\"ae6d023\",226:\"ee31514\",227:\"f4216e4\",228:\"5ab91f5\",229:\"17f5e9a\",230:\"eeaa87d\",231:\"34bf796\",232:\"375816d\",233:\"681b8d2\",234:\"42adb4c\",235:\"da08df0\",236:\"8e0d083\",237:\"7747127\",238:\"0766a74\",239:\"6f9ec65\",240:\"5e98499\",241:\"df6ecd3\",242:\"1138341\",243:\"d3bd3a9\",244:\"4f76586\",245:\"1a368d0\",246:\"f7d3fd5\",247:\"a11d0d2\",248:\"baf537b\",249:\"7624dac\",250:\"e6fa404\",251:\"cc0d83b\",252:\"4a6b17d\",253:\"9544b6e\",254:\"b4c0c41\",255:\"006c2a2\",256:\"62031c5\",257:\"163a959\",258:\"132d44a\",259:\"78e08d6\",260:\"db09438\",261:\"8acaf3b\",262:\"21aafd4\",263:\"8bc373d\",264:\"75646d5\",265:\"956362e\",266:\"5b05ff4\",267:\"9d1ab86\",268:\"58964f9\",269:\"63ae3c6\",270:\"6ff2f5e\",271:\"986ba3b\"}[e]+\"5.js\"}(e);var l=new Error;r=function(n){i.onerror=i.onload=null,clearTimeout(c);var d=a[e];if(0!==d){if(d){var o=n&&(\"load\"===n.type?\"missing\":n.type),r=n&&n.target&&n.target.src;l.message=\"Loading chunk \"+e+\" failed.\\n(\"+o+\": \"+r+\")\",l.name=\"ChunkLoadError\",l.type=o,l.request=r,d[1](l)}a[e]=void 0}};var c=setTimeout((function(){r({type:\"timeout\",target:i})}),12e4);i.onerror=i.onload=r,document.head.appendChild(i)}return Promise.all(n)},t.m=e,t.c=o,t.d=function(e,n,d){t.o(e,n)||Object.defineProperty(e,n,{enumerable:!0,get:d})},t.r=function(e){\"undefined\"!=typeof Symbol&&Symbol.toStringTag&&Object.defineProperty(e,Symbol.toStringTag,{value:\"Module\"}),Object.defineProperty(e,\"__esModule\",{value:!0})},t.t=function(e,n){if(1&n&&(e=t(e)),8&n)return e;if(4&n&&\"object\"==typeof e&&e&&e.__esModule)return e;var d=Object.create(null);if(t.r(d),Object.defineProperty(d,\"default\",{enumerable:!0,value:e}),2&n&&\"string\"!=typeof e)for(var o in e)t.d(d,o,function(n){return e[n]}.bind(null,o));return d},t.n=function(e){var n=e&&e.__esModule?function(){return e.default}:function(){return e};return t.d(n,\"a\",n),n},t.o=function(e,n){return Object.prototype.hasOwnProperty.call(e,n)},t.p=\"https://abs.twimg.com/responsive-web/client-web-legacy/\",t.oe=function(e){throw e};var i=window.webpackJsonp=window.webpackJsonp||[],l=i.push.bind(i);i.push=n,i=i.slice();for(var c=0;c<i.length;c++)n(i[c]);var u=l;d()}([]),window.__SCRIPTS_LOADED__.runtime=!0;\n",
      "   </script>\n",
      "   <script charset=\"utf-8\" crossorigin=\"anonymous\" nonce=\"Y2ViY2E2OGUtODk3MC00MjA4LWIxZjUtNzQ1MzA1YmRiMGRj\" src=\"https://abs.twimg.com/responsive-web/client-web-legacy/polyfills.87388485.js\" type=\"text/javascript\">\n",
      "   </script>\n",
      "   <script charset=\"utf-8\" crossorigin=\"anonymous\" nonce=\"Y2ViY2E2OGUtODk3MC00MjA4LWIxZjUtNzQ1MzA1YmRiMGRj\" src=\"https://abs.twimg.com/responsive-web/client-web-legacy/vendors~main.55c72055.js\" type=\"text/javascript\">\n",
      "   </script>\n",
      "   <script charset=\"utf-8\" crossorigin=\"anonymous\" nonce=\"Y2ViY2E2OGUtODk3MC00MjA4LWIxZjUtNzQ1MzA1YmRiMGRj\" src=\"https://abs.twimg.com/responsive-web/client-web-legacy/i18n/en.a6c5d025.js\" type=\"text/javascript\">\n",
      "   </script>\n",
      "   <script charset=\"utf-8\" crossorigin=\"anonymous\" nonce=\"Y2ViY2E2OGUtODk3MC00MjA4LWIxZjUtNzQ1MzA1YmRiMGRj\" src=\"https://abs.twimg.com/responsive-web/client-web-legacy/main.a1312795.js\" type=\"text/javascript\">\n",
      "   </script>\n",
      "   <script nonce=\"Y2ViY2E2OGUtODk3MC00MjA4LWIxZjUtNzQ1MzA1YmRiMGRj\">\n",
      "    if (!window.__SCRIPTS_LOADED__['main']) {\n",
      "    document.getElementById('ScriptLoadFailure').style.display = 'block';\n",
      "  }\n",
      "   </script>\n",
      "  </body>\n",
      " </link>\n",
      "</html>\n"
     ]
    }
   ],
   "source": [
    "#WEATHER \n",
    "\n",
    "# get the url and perform get requests\n",
    "tweet_url = \"https://twitter.com/marswxreport?lang=en\"\n",
    "response = requests.get(tweet_url)\n",
    "\n",
    "# create beautifulsoup object \n",
    "soup = bs(response.text, \"html.parser\")\n",
    "print(soup.prettify())"
   ]
  },
  {
   "cell_type": "code",
   "execution_count": 34,
   "metadata": {},
   "outputs": [
    {
     "ename": "NameError",
     "evalue": "name 'mars_weather' is not defined",
     "output_type": "error",
     "traceback": [
      "\u001b[0;31m---------------------------------------------------------------------------\u001b[0m",
      "\u001b[0;31mNameError\u001b[0m                                 Traceback (most recent call last)",
      "\u001b[0;32m<ipython-input-34-dabf7c0e7b7a>\u001b[0m in \u001b[0;36m<module>\u001b[0;34m\u001b[0m\n\u001b[1;32m      8\u001b[0m         \u001b[0;32mbreak\u001b[0m\u001b[0;34m\u001b[0m\u001b[0;34m\u001b[0m\u001b[0m\n\u001b[1;32m      9\u001b[0m \u001b[0;34m\u001b[0m\u001b[0m\n\u001b[0;32m---> 10\u001b[0;31m \u001b[0mprint\u001b[0m\u001b[0;34m(\u001b[0m\u001b[0mmars_weather\u001b[0m\u001b[0;34m)\u001b[0m\u001b[0;34m\u001b[0m\u001b[0;34m\u001b[0m\u001b[0m\n\u001b[0m",
      "\u001b[0;31mNameError\u001b[0m: name 'mars_weather' is not defined"
     ]
    }
   ],
   "source": [
    "# get the weather tweet with beautiful soup\n",
    "\n",
    "mars_weather_all = soup.find_all('span')\n",
    "\n",
    "for i in range(len(mars_weather_all)):\n",
    "    if (\"InSight\" in mars_weather_all[i].text):\n",
    "        mars_weather = mars_weather_all[i].text\n",
    "        break    \n",
    "\n",
    "print(mars_weather)\n"
   ]
  },
  {
   "cell_type": "code",
   "execution_count": 35,
   "metadata": {},
   "outputs": [
    {
     "data": {
      "text/plain": [
       "[                      0                              1\n",
       " 0  Equatorial Diameter:                       6,792 km\n",
       " 1       Polar Diameter:                       6,752 km\n",
       " 2                 Mass:  6.39 × 10^23 kg (0.11 Earths)\n",
       " 3                Moons:            2 (Phobos & Deimos)\n",
       " 4       Orbit Distance:       227,943,824 km (1.38 AU)\n",
       " 5         Orbit Period:           687 days (1.9 years)\n",
       " 6  Surface Temperature:                   -87 to -5 °C\n",
       " 7         First Record:              2nd millennium BC\n",
       " 8          Recorded By:           Egyptian astronomers,\n",
       "   Mars - Earth Comparison             Mars            Earth\n",
       " 0               Diameter:         6,779 km        12,742 km\n",
       " 1                   Mass:  6.39 × 10^23 kg  5.97 × 10^24 kg\n",
       " 2                  Moons:                2                1\n",
       " 3      Distance from Sun:   227,943,824 km   149,598,262 km\n",
       " 4         Length of Year:   687 Earth days      365.24 days\n",
       " 5            Temperature:     -87 to -5 °C      -88 to 58°C,\n",
       "                       0                              1\n",
       " 0  Equatorial Diameter:                       6,792 km\n",
       " 1       Polar Diameter:                       6,752 km\n",
       " 2                 Mass:  6.39 × 10^23 kg (0.11 Earths)\n",
       " 3                Moons:            2 (Phobos & Deimos)\n",
       " 4       Orbit Distance:       227,943,824 km (1.38 AU)\n",
       " 5         Orbit Period:           687 days (1.9 years)\n",
       " 6  Surface Temperature:                   -87 to -5 °C\n",
       " 7         First Record:              2nd millennium BC\n",
       " 8          Recorded By:           Egyptian astronomers]"
      ]
     },
     "execution_count": 35,
     "metadata": {},
     "output_type": "execute_result"
    }
   ],
   "source": [
    "# Mars Facts\n",
    "\n",
    "\n",
    "# get the url for Mars's facts \n",
    "facts_url = \"https://space-facts.com/mars/\"\n",
    "\n",
    "# # Use panda's `read_html` to parse the url\n",
    "table = pd.read_html(facts_url)\n",
    "table"
   ]
  },
  {
   "cell_type": "code",
   "execution_count": 37,
   "metadata": {},
   "outputs": [
    {
     "data": {
      "text/html": [
       "<div>\n",
       "<style scoped>\n",
       "    .dataframe tbody tr th:only-of-type {\n",
       "        vertical-align: middle;\n",
       "    }\n",
       "\n",
       "    .dataframe tbody tr th {\n",
       "        vertical-align: top;\n",
       "    }\n",
       "\n",
       "    .dataframe thead th {\n",
       "        text-align: right;\n",
       "    }\n",
       "</style>\n",
       "<table border=\"1\" class=\"dataframe\">\n",
       "  <thead>\n",
       "    <tr style=\"text-align: right;\">\n",
       "      <th></th>\n",
       "      <th>Description</th>\n",
       "      <th>Value</th>\n",
       "    </tr>\n",
       "  </thead>\n",
       "  <tbody>\n",
       "    <tr>\n",
       "      <th>0</th>\n",
       "      <td>Equatorial Diameter:</td>\n",
       "      <td>6,792 km</td>\n",
       "    </tr>\n",
       "    <tr>\n",
       "      <th>1</th>\n",
       "      <td>Polar Diameter:</td>\n",
       "      <td>6,752 km</td>\n",
       "    </tr>\n",
       "    <tr>\n",
       "      <th>2</th>\n",
       "      <td>Mass:</td>\n",
       "      <td>6.39 × 10^23 kg (0.11 Earths)</td>\n",
       "    </tr>\n",
       "    <tr>\n",
       "      <th>3</th>\n",
       "      <td>Moons:</td>\n",
       "      <td>2 (Phobos &amp; Deimos)</td>\n",
       "    </tr>\n",
       "    <tr>\n",
       "      <th>4</th>\n",
       "      <td>Orbit Distance:</td>\n",
       "      <td>227,943,824 km (1.38 AU)</td>\n",
       "    </tr>\n",
       "    <tr>\n",
       "      <th>5</th>\n",
       "      <td>Orbit Period:</td>\n",
       "      <td>687 days (1.9 years)</td>\n",
       "    </tr>\n",
       "    <tr>\n",
       "      <th>6</th>\n",
       "      <td>Surface Temperature:</td>\n",
       "      <td>-87 to -5 °C</td>\n",
       "    </tr>\n",
       "    <tr>\n",
       "      <th>7</th>\n",
       "      <td>First Record:</td>\n",
       "      <td>2nd millennium BC</td>\n",
       "    </tr>\n",
       "    <tr>\n",
       "      <th>8</th>\n",
       "      <td>Recorded By:</td>\n",
       "      <td>Egyptian astronomers</td>\n",
       "    </tr>\n",
       "  </tbody>\n",
       "</table>\n",
       "</div>"
      ],
      "text/plain": [
       "            Description                          Value\n",
       "0  Equatorial Diameter:                       6,792 km\n",
       "1       Polar Diameter:                       6,752 km\n",
       "2                 Mass:  6.39 × 10^23 kg (0.11 Earths)\n",
       "3                Moons:            2 (Phobos & Deimos)\n",
       "4       Orbit Distance:       227,943,824 km (1.38 AU)\n",
       "5         Orbit Period:           687 days (1.9 years)\n",
       "6  Surface Temperature:                   -87 to -5 °C\n",
       "7         First Record:              2nd millennium BC\n",
       "8          Recorded By:           Egyptian astronomers"
      ]
     },
     "execution_count": 37,
     "metadata": {},
     "output_type": "execute_result"
    }
   ],
   "source": [
    "df = table[0]\n",
    "df\n",
    "\n",
    "#rename the columns\n",
    "df.columns=[\"Description\", \"Value\"]\n",
    "df"
   ]
  },
  {
   "cell_type": "code",
   "execution_count": 38,
   "metadata": {},
   "outputs": [
    {
     "name": "stdout",
     "output_type": "stream",
     "text": [
      "<table border=\"1\" class=\"dataframe\">\n",
      "  <thead>\n",
      "    <tr style=\"text-align: right;\">\n",
      "      <th></th>\n",
      "      <th>Description</th>\n",
      "      <th>Value</th>\n",
      "    </tr>\n",
      "  </thead>\n",
      "  <tbody>\n",
      "    <tr>\n",
      "      <th>0</th>\n",
      "      <td>Equatorial Diameter:</td>\n",
      "      <td>6,792 km</td>\n",
      "    </tr>\n",
      "    <tr>\n",
      "      <th>1</th>\n",
      "      <td>Polar Diameter:</td>\n",
      "      <td>6,752 km</td>\n",
      "    </tr>\n",
      "    <tr>\n",
      "      <th>2</th>\n",
      "      <td>Mass:</td>\n",
      "      <td>6.39 × 10^23 kg (0.11 Earths)</td>\n",
      "    </tr>\n",
      "    <tr>\n",
      "      <th>3</th>\n",
      "      <td>Moons:</td>\n",
      "      <td>2 (Phobos &amp; Deimos)</td>\n",
      "    </tr>\n",
      "    <tr>\n",
      "      <th>4</th>\n",
      "      <td>Orbit Distance:</td>\n",
      "      <td>227,943,824 km (1.38 AU)</td>\n",
      "    </tr>\n",
      "    <tr>\n",
      "      <th>5</th>\n",
      "      <td>Orbit Period:</td>\n",
      "      <td>687 days (1.9 years)</td>\n",
      "    </tr>\n",
      "    <tr>\n",
      "      <th>6</th>\n",
      "      <td>Surface Temperature:</td>\n",
      "      <td>-87 to -5 °C</td>\n",
      "    </tr>\n",
      "    <tr>\n",
      "      <th>7</th>\n",
      "      <td>First Record:</td>\n",
      "      <td>2nd millennium BC</td>\n",
      "    </tr>\n",
      "    <tr>\n",
      "      <th>8</th>\n",
      "      <td>Recorded By:</td>\n",
      "      <td>Egyptian astronomers</td>\n",
      "    </tr>\n",
      "  </tbody>\n",
      "</table>\n"
     ]
    }
   ],
   "source": [
    "# convert dataframe to an html table string\n",
    "facts_html = df.to_html()\n",
    "print(facts_html)"
   ]
  },
  {
   "cell_type": "code",
   "execution_count": 39,
   "metadata": {},
   "outputs": [],
   "source": [
    "# MARS HEMISPHERE \n",
    "\n",
    "# use splinter to navigate the page\n",
    "executable_path = {'executable_path': '/usr/local/bin/chromedriver'}\n",
    "browser = Browser('chrome', **executable_path, headless=False)\n"
   ]
  },
  {
   "cell_type": "code",
   "execution_count": 40,
   "metadata": {},
   "outputs": [],
   "source": [
    "# get the url and oepn it with browser\n",
    "hemi_url = \"https://astrogeology.usgs.gov/search/results?q=hemisphere+enhanced&k1=target&v1=Mars\"\n",
    "browser.visit(hemi_url)"
   ]
  },
  {
   "cell_type": "code",
   "execution_count": 41,
   "metadata": {},
   "outputs": [],
   "source": [
    "# cerate html \n",
    "html = browser.html\n",
    "\n",
    "# use beautiful soup to create soup object\n",
    "soup = bs(html, \"html.parser\")"
   ]
  },
  {
   "cell_type": "code",
   "execution_count": 49,
   "metadata": {},
   "outputs": [
    {
     "name": "stdout",
     "output_type": "stream",
     "text": [
      "[]\n"
     ]
    }
   ],
   "source": [
    "\n",
    "data = soup.find_all(\"div\", class_=\"item\")\n",
    "print(data)"
   ]
  },
  {
   "cell_type": "code",
   "execution_count": 50,
   "metadata": {},
   "outputs": [
    {
     "data": {
      "text/plain": [
       "[]"
      ]
     },
     "execution_count": 50,
     "metadata": {},
     "output_type": "execute_result"
    }
   ],
   "source": [
    "# navigate the page to get necessary image url and title\n",
    "\n",
    "data = soup.find_all(\"div\", class_=\"item\")\n",
    "\n",
    "hemisphere_img_urls = []\n",
    "\n",
    "# loop through image data to find title and url info\n",
    "for d in data:\n",
    "    \n",
    "    title = d.find(\"h3\").text\n",
    "    \n",
    "    img_url = d.a[\"href\"]\n",
    "    \n",
    "    url = \"https://astrogeology.usgs.gov\" + img_url\n",
    "    \n",
    "    # use requests to get full images url \n",
    "    response = requests.get(url)\n",
    "    \n",
    "    # create soup object\n",
    "    soup = bs(response.text,\"html.parser\")\n",
    "    \n",
    "    # find full image url\n",
    "    new_url = soup.find(\"img\", class_=\"wide-image\")[\"src\"]\n",
    "    \n",
    "    # create full image url\n",
    "    full_url = \"https://astrogeology.usgs.gov\" + new_url\n",
    "    \n",
    "   \n",
    "    #make a dict and append to the list\n",
    "    hemisphere_img_urls.append({\"title\": title, \"img_url\": full_url})\n",
    "\n",
    "hemisphere_img_urls"
   ]
  },
  {
   "cell_type": "code",
   "execution_count": null,
   "metadata": {},
   "outputs": [],
   "source": []
  }
 ],
 "metadata": {
  "kernelspec": {
   "display_name": "Python 3",
   "language": "python",
   "name": "python3"
  },
  "language_info": {
   "codemirror_mode": {
    "name": "ipython",
    "version": 3
   },
   "file_extension": ".py",
   "mimetype": "text/x-python",
   "name": "python",
   "nbconvert_exporter": "python",
   "pygments_lexer": "ipython3",
   "version": "3.7.6"
  }
 },
 "nbformat": 4,
 "nbformat_minor": 4
}
